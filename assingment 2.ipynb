{
 "cells": [
  {
   "cell_type": "markdown",
   "id": "d7e70962",
   "metadata": {},
   "source": [
    "<b>1.What are the two values of the boolean data types? how do you write them ?"
   ]
  },
  {
   "cell_type": "markdown",
   "id": "4cd8e936",
   "metadata": {},
   "source": [
    "Ans: True and False are two values of the boolen data types. We have to use capital T and F and with the rest of the word in lowercase"
   ]
  },
  {
   "cell_type": "markdown",
   "id": "2122d066",
   "metadata": {},
   "source": [
    "<b> 2. What are the three different types of Boolean operators?"
   ]
  },
  {
   "cell_type": "code",
   "execution_count": null,
   "id": "27b72841",
   "metadata": {},
   "outputs": [],
   "source": [
    "The three differnt types of Boolean operators in python are: are  \" and \" \" or\" \"not\""
   ]
  },
  {
   "cell_type": "markdown",
   "id": "cac2d3da",
   "metadata": {},
   "source": [
    "<b> 3. Make a list of each Boolean operator's truth tables (i.e. every possible combination of Boolean values for the operator and what it evaluate) ?"
   ]
  },
  {
   "cell_type": "markdown",
   "id": "9d9ff5c6",
   "metadata": {},
   "source": [
    "Ans: The Truth tables for the boolean tables are as follows:\n",
    "•\t*Truth Table for and operaotor\n",
    "True and True is True\n",
    "True and False is False\n",
    "False and True is False\n",
    "False and False is False\n",
    "•\t*Truth Table for or operaotor\n",
    "True and True is True\n",
    "True and False is True\n",
    "False and True is True\n",
    "False and False is False\n",
    "•\t*Truth Table for not operaotor\n",
    "True not is False False not is True\n"
   ]
  },
  {
   "cell_type": "markdown",
   "id": "47a0896f",
   "metadata": {},
   "source": [
    "<b> 4. What are the values of the following expressions ?\n",
    "•\t(5 > 4) and (3 == 5)\n",
    "•\tnot (5 > 4)\n",
    "•\t(5 > 4) or (3 == 5)\n",
    "•\tnot ((5 > 4) or (3 == 5))\n",
    "•\t(True and True) and (True == False)\n",
    "•\t(not False) or (not True)\n"
   ]
  },
  {
   "cell_type": "code",
   "execution_count": 6,
   "id": "92fc1025",
   "metadata": {},
   "outputs": [
    {
     "name": "stdout",
     "output_type": "stream",
     "text": [
      "False\n",
      "False\n",
      "True\n",
      "False\n",
      "False\n",
      "True\n"
     ]
    }
   ],
   "source": [
    "print((5 > 4) and (3 == 5))\n",
    "print(not (5 > 4))\n",
    "print((5 > 4) or (3 == 5))\n",
    "print(not ((5 > 4) or (3 == 5)))\n",
    "print((True and True) and (True == False))\n",
    "print((not False) or (not True))\n"
   ]
  },
  {
   "cell_type": "markdown",
   "id": "45e0de2d",
   "metadata": {},
   "source": [
    "<B>5. What are the six comparison operators?\n",
    "\n"
   ]
  },
  {
   "cell_type": "code",
   "execution_count": null,
   "id": "610d53e7",
   "metadata": {},
   "outputs": [],
   "source": [
    "Ans: The Six comparision operators available in python are:\n",
    "== , != , < , > , <= , =>"
   ]
  },
  {
   "cell_type": "markdown",
   "id": "7c655f67",
   "metadata": {},
   "source": [
    "<b>6. How do you tell the difference between the equal to and assignment operators?Describe a condition and when you would use one ?\n",
    "\n"
   ]
  },
  {
   "cell_type": "markdown",
   "id": "f97a00a5",
   "metadata": {},
   "source": [
    "Ans: == is the equal to operator that compares two values and evaluates to a Boolean, while = is that assignment operator that stores a value in a variable.\n",
    "\n",
    "a=8 # Assigning operator that stores  value 8 in the variable a\n",
    "if a==3:#compares the  values of a varible value and 3\n",
    "    print(a==3)  \n",
    "True"
   ]
  },
  {
   "cell_type": "markdown",
   "id": "2d42d95a",
   "metadata": {},
   "source": [
    "<B>7. Identify the three blocks in this code:\n",
    "spam = 0\n",
    "if spam == 10:\n",
    "print('eggs')\n",
    "if spam > 5:\n",
    "print('bacon')\n",
    "else:\n",
    "print('ham')\n",
    "print('spam')\n",
    "print('spam')\n"
   ]
  },
  {
   "cell_type": "code",
   "execution_count": 11,
   "id": "6d1d0b3e",
   "metadata": {},
   "outputs": [
    {
     "name": "stdout",
     "output_type": "stream",
     "text": [
      "ham\n",
      "spam\n",
      "spam\n"
     ]
    }
   ],
   "source": [
    "spam=0\n",
    "if spam == 10:\n",
    "    print('eggs')\n",
    "if spam > 5:\n",
    "    print('bacon')\n",
    "else:\n",
    "            print('ham')\n",
    "            print('spam')\n",
    "            print('spam')\n"
   ]
  },
  {
   "cell_type": "markdown",
   "id": "6954b6a0",
   "metadata": {},
   "source": [
    "<b>8. Write code that prints Hello if 1 is stored in spam, prints Howdy if 2 is stored in spam, and prints Greetings! if anything else is stored in spam.\n"
   ]
  },
  {
   "cell_type": "code",
   "execution_count": 13,
   "id": "3ec20756",
   "metadata": {},
   "outputs": [
    {
     "name": "stdout",
     "output_type": "stream",
     "text": [
      "Hello\n",
      "Howdy\n",
      "Greetings\n"
     ]
    }
   ],
   "source": [
    "def spamCode(spam):\n",
    "    if spam==1:\n",
    "        print('Hello')\n",
    "    elif spam==2:\n",
    "        print('Howdy')\n",
    "    else:\n",
    "        print('Greetings')\n",
    "        \n",
    "spamCode(1) \n",
    "spamCode(2)\n",
    "spamCode(3)\n"
   ]
  },
  {
   "cell_type": "markdown",
   "id": "194bbb8f",
   "metadata": {},
   "source": [
    "<b>9..If your programme is stuck in an endless loop, what keys you’ll press?\n"
   ]
  },
  {
   "cell_type": "code",
   "execution_count": null,
   "id": "41c4dccc",
   "metadata": {},
   "outputs": [],
   "source": [
    "Ans: Press Ctrl-c to stop a program stuck in an infinite loop"
   ]
  },
  {
   "cell_type": "markdown",
   "id": "e6ce5617",
   "metadata": {},
   "source": [
    "<b>10. How can you tell the difference between break and continue?\n"
   ]
  },
  {
   "cell_type": "markdown",
   "id": "f8c05221",
   "metadata": {},
   "source": [
    "Ans: The break statement will move the execution outside the loop if break condtion is satisfied. Whereas the continue statement will move the execution to the start of the loop."
   ]
  },
  {
   "cell_type": "markdown",
   "id": "9b0cc022",
   "metadata": {},
   "source": [
    "<b> 11. In a for loop, what is the difference between range(10), range(0, 10), and range(0, 10, 1)?\n"
   ]
  },
  {
   "cell_type": "markdown",
   "id": "a28a3b42",
   "metadata": {},
   "source": [
    " 1. range(10) call range from 0 to 9 (but not include 10)\n",
    "2.\tThe range (0,10) explicitly tells the loop to start at 0\n",
    "3.\tThe range(0,10,1) explicitly tells the loop to increase the variable by 1 on each iteration"
   ]
  },
  {
   "cell_type": "markdown",
   "id": "68ffb6cb",
   "metadata": {},
   "source": [
    "<b>12. Write a short program that prints the numbers 1 to 10 using a for loop. Then write an equivalent program that prints the numbers 1 to 10 using a while loop ?"
   ]
  },
  {
   "cell_type": "code",
   "execution_count": 16,
   "id": "4116239b",
   "metadata": {},
   "outputs": [
    {
     "name": "stdout",
     "output_type": "stream",
     "text": [
      "Using For Loop\n",
      "1 2 3 4 5 6 7 8 9 10 \n",
      "\n",
      "Using While Loop\n",
      "1 2 3 4 5 6 7 8 9 10 "
     ]
    }
   ],
   "source": [
    "print('Using For Loop')\n",
    "for i in range(1,11):\n",
    "    print(i, end=\" \")\n",
    "print('\\n')\n",
    "print('Using While Loop') \n",
    "i=1\n",
    "while i<=10:\n",
    "    print(i, end=\" \")\n",
    "    i+=1"
   ]
  },
  {
   "cell_type": "markdown",
   "id": "bb036841",
   "metadata": {},
   "source": [
    "<b>13. If you had a function named bacon() inside a module named spam, how would you call it after importing spam ?\n"
   ]
  },
  {
   "cell_type": "markdown",
   "id": "78d58abd",
   "metadata": {},
   "source": [
    " This function can be called with spam.bacon()"
   ]
  }
 ],
 "metadata": {
  "kernelspec": {
   "display_name": "Python 3 (ipykernel)",
   "language": "python",
   "name": "python3"
  },
  "language_info": {
   "codemirror_mode": {
    "name": "ipython",
    "version": 3
   },
   "file_extension": ".py",
   "mimetype": "text/x-python",
   "name": "python",
   "nbconvert_exporter": "python",
   "pygments_lexer": "ipython3",
   "version": "3.9.7"
  }
 },
 "nbformat": 4,
 "nbformat_minor": 5
}
